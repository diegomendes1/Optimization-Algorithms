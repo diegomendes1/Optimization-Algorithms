{
  "nbformat": 4,
  "nbformat_minor": 0,
  "metadata": {
    "colab": {
      "provenance": [],
      "collapsed_sections": [],
      "authorship_tag": "ABX9TyMcVRbOm6VXavNVkhimMo47",
      "include_colab_link": true
    },
    "kernelspec": {
      "name": "python3",
      "display_name": "Python 3"
    },
    "language_info": {
      "name": "python"
    }
  },
  "cells": [
    {
      "cell_type": "markdown",
      "metadata": {
        "id": "view-in-github",
        "colab_type": "text"
      },
      "source": [
        "<a href=\"https://colab.research.google.com/github/diegomendes1/PSO-Pixels/blob/main/GA_Caixeiro_Viajante.ipynb\" target=\"_parent\"><img src=\"https://colab.research.google.com/assets/colab-badge.svg\" alt=\"Open In Colab\"/></a>"
      ]
    },
    {
      "cell_type": "markdown",
      "metadata": {
        "id": "G9cz_GpeB1zQ"
      },
      "source": [
        "Diego Mendes da Silva\n",
        "\n",
        "Computação Natural - Prof. Carmelo Filho\n",
        "\n",
        "**Algoritmo Genético: Caixeiro Viajante**"
      ]
    },
    {
      "cell_type": "code",
      "metadata": {
        "id": "NLOpGFJTBgZb"
      },
      "source": [
        "import numpy as np\n",
        "import pandas as pd\n",
        "import matplotlib.pyplot as plt\n",
        "import random, operator"
      ],
      "execution_count": null,
      "outputs": []
    },
    {
      "cell_type": "markdown",
      "metadata": {
        "id": "3tQcNnffLN85"
      },
      "source": [
        "# Classes"
      ]
    },
    {
      "cell_type": "code",
      "metadata": {
        "id": "kAV0cMAlCmhu"
      },
      "source": [
        "class Cidade:\n",
        "    def __init__(self, x, y):\n",
        "        self.x = x\n",
        "        self.y = y\n",
        "    \n",
        "    def distParaCidade(self, outraCidade):\n",
        "        dX = abs(self.x - outraCidade.x)\n",
        "        dY = abs(self.y - outraCidade.y)\n",
        "        return np.sqrt((dX * dY) + (dY * dY))\n",
        "\n",
        "class Fitness:\n",
        "    def __init__(self, caminho):\n",
        "        self.caminho = caminho\n",
        "        self.distancia = 0\n",
        "        self.fitness= 0.0\n",
        "    \n",
        "    def calcularDistancia(self):\n",
        "        if self.distancia == 0:\n",
        "            for i in range(0, len(self.caminho)):\n",
        "                origem = self.caminho[i]\n",
        "                destino = None\n",
        "                if i + 1 < len(self.caminho):\n",
        "                    destino = self.caminho[i + 1]\n",
        "                else:\n",
        "                    destino = self.caminho[0]\n",
        "                self.distancia += origem.distParaCidade(destino)\n",
        "        return self.distancia\n",
        "    \n",
        "    def calcularFitness(self):\n",
        "        self.fitness = 1 / float(self.calcularDistancia())\n",
        "        return self.fitness"
      ],
      "execution_count": null,
      "outputs": []
    },
    {
      "cell_type": "markdown",
      "metadata": {
        "id": "6W-wd5vaL4SH"
      },
      "source": [
        "# População"
      ]
    },
    {
      "cell_type": "code",
      "metadata": {
        "id": "RWOL5KyUCmXD"
      },
      "source": [
        "def gerarPopulacaoAleatoria(tamanho, cidades):\n",
        "    populacao = []\n",
        "    for i in range(0, tamanho):\n",
        "        populacao.append(random.sample(cidades, len(cidades)))\n",
        "    return populacao"
      ],
      "execution_count": null,
      "outputs": []
    },
    {
      "cell_type": "code",
      "metadata": {
        "id": "GepmMvt5VaG3"
      },
      "source": [
        "def gerarProximaGeracao(gAtual, qtdElite, taxaMutacao):\n",
        "    resultado = selecionarCaminhos(avaliarCaminhos(gAtual), qtdElite)\n",
        "\n",
        "    pais = gerarPais(gAtual, resultado)\n",
        "    filhos = cruzamentoPopulacao(pais, qtdElite)\n",
        "\n",
        "    return mutacaoPopulacao(filhos, taxaMutacao)"
      ],
      "execution_count": null,
      "outputs": []
    },
    {
      "cell_type": "markdown",
      "metadata": {
        "id": "qj7olaOULS7b"
      },
      "source": [
        "# Fitness e Seleção"
      ]
    },
    {
      "cell_type": "code",
      "metadata": {
        "id": "Q1BseTCxCmLM"
      },
      "source": [
        "def selecionarCaminhos(populacao, qtdElite):\n",
        "    resultado = []\n",
        "    df = pd.DataFrame(np.array(populacao), columns=[\"id\",\"Fitness\"])\n",
        "    df['cum_sum'] = df.Fitness.cumsum()\n",
        "    df['cum_perc'] = 100*df.cum_sum/df.Fitness.sum()\n",
        "    \n",
        "    for i in range(0, qtdElite):\n",
        "        resultado.append(populacao[i][0])\n",
        "    for i in range(0, len(populacao) - qtdElite):\n",
        "        escolha = 100*random.random()\n",
        "        for i in range(0, len(populacao)):\n",
        "            if escolha <= df.iat[i,3]:\n",
        "                resultado.append(populacao[i][0])\n",
        "                break\n",
        "    return resultado\n",
        "\n",
        "def avaliarCaminhos(populacao):\n",
        "    resultado = {}\n",
        "    for i in range(0,len(populacao)):\n",
        "        resultado[i] = Fitness(populacao[i]).calcularFitness()\n",
        "    return sorted(resultado.items(), key = operator.itemgetter(1), reverse = True)\n",
        "\n",
        "def gerarPais(populacao, selecao):\n",
        "    pais = []\n",
        "    for i in range(0, len(selecao)):\n",
        "        index = selecao[i]\n",
        "        pais.append(populacao[index])\n",
        "    return pais"
      ],
      "execution_count": null,
      "outputs": []
    },
    {
      "cell_type": "markdown",
      "metadata": {
        "id": "RpUB4-cUNGOZ"
      },
      "source": [
        "# Cruzamento e Mutação"
      ]
    },
    {
      "cell_type": "code",
      "metadata": {
        "id": "_Z1gLXpcCyAT"
      },
      "source": [
        "def fazerCruzamento(pai1, pai2):\n",
        "    resultado = []\n",
        "    filho1 = []\n",
        "    filho2 = []\n",
        "    \n",
        "    geneA = int(random.random() * len(pai1))\n",
        "    geneB = int(random.random() * len(pai2))\n",
        "    \n",
        "    iniGene = min(geneA, geneB)\n",
        "    fimGene = max(geneA, geneB)\n",
        "\n",
        "    for i in range(iniGene, fimGene):\n",
        "        filho1.append(pai1[i])\n",
        "        \n",
        "    filho2 = [i for i in pai2 if i not in filho1]\n",
        "\n",
        "    resultado = filho1 + filho2\n",
        "    return resultado\n",
        "\n",
        "def cruzamentoPopulacao(pais, qtdElite):\n",
        "    filhos = []\n",
        "    tam = len(pais) - qtdElite\n",
        "    listaPaisAleatoria = random.sample(pais, len(pais))\n",
        "\n",
        "    for i in range(0,qtdElite):\n",
        "        filhos.append(pais[i])\n",
        "    \n",
        "    for i in range(0, tam):\n",
        "        child = fazerCruzamento(listaPaisAleatoria[i], listaPaisAleatoria[len(pais)-i-1])\n",
        "        filhos.append(child)\n",
        "    return filhos"
      ],
      "execution_count": null,
      "outputs": []
    },
    {
      "cell_type": "code",
      "metadata": {
        "id": "69RrzVbwCxxc"
      },
      "source": [
        "def fazerMutacao(caminho, taxa):\n",
        "    for cTrocada in range(len(caminho)):\n",
        "        if(random.random() < taxa):\n",
        "            cTrocadaDestino = int(random.random() * len(caminho))\n",
        "            \n",
        "            cidade1 = caminho[cTrocada]\n",
        "            cidade2 = caminho[cTrocadaDestino]\n",
        "            \n",
        "            caminho[cTrocada] = cidade2\n",
        "            caminho[cTrocadaDestino] = cidade1\n",
        "    return caminho\n",
        "\n",
        "def mutacaoPopulacao(populacao, taxa):\n",
        "    mutacao = []\n",
        "    \n",
        "    for ind in range(0, len(populacao)):\n",
        "        idAtual = fazerMutacao(populacao[ind], taxa)\n",
        "        mutacao.append(idAtual)\n",
        "    return mutacao"
      ],
      "execution_count": null,
      "outputs": []
    },
    {
      "cell_type": "markdown",
      "metadata": {
        "id": "gasqQuUfNNWe"
      },
      "source": [
        "# Resultados"
      ]
    },
    {
      "cell_type": "code",
      "metadata": {
        "id": "m3dl5eqLC8_t"
      },
      "source": [
        "cidades = []\n",
        "\n",
        "for i in range(0,25):\n",
        "    cidades.append(Cidade(x=int(random.random() * 200), y=int(random.random() * 200)))\n",
        "\n",
        "populacaoInicial = gerarPopulacaoAleatoria(100, cidades)"
      ],
      "execution_count": null,
      "outputs": []
    },
    {
      "cell_type": "code",
      "metadata": {
        "id": "dFDRCIXeC9Ch"
      },
      "source": [
        "def algoritmoGenetico(qtdGeracoes, taxaMutacao, qtdElite):\n",
        "    pop = populacaoInicial #pode se utilizar diretamente a função de geração da população.\n",
        "    \n",
        "    for i in range(0, qtdGeracoes):\n",
        "        pop = gerarProximaGeracao(pop, qtdElite, taxaMutacao)\n",
        "    \n",
        "    idMelhor = avaliarCaminhos(pop)[0][0]\n",
        "    return pop[idMelhor]"
      ],
      "execution_count": null,
      "outputs": []
    },
    {
      "cell_type": "markdown",
      "metadata": {
        "id": "AXrH9ltPLy_T"
      },
      "source": [
        "# Teste 1 - Taxa de Mutação"
      ]
    },
    {
      "cell_type": "code",
      "metadata": {
        "colab": {
          "base_uri": "https://localhost:8080/"
        },
        "id": "CSFuypFtZxut",
        "outputId": "d992d0af-b4b5-428b-d016-c7785f44ccf8"
      },
      "source": [
        "print(\"Distância com a População Inicial: \" + str((int)(1 / avaliarCaminhos(populacaoInicial)[0][1])) + \"m\")\n",
        "testesMutacao = []\n",
        "taxasMutacao = []\n",
        "\n",
        "for i in range(1, 10):\n",
        "    pop = algoritmoGenetico(qtdGeracoes=500, taxaMutacao=0.1/(2*i), qtdElite=10)\n",
        "    testesMutacao.append(Fitness(pop).calcularDistancia())\n",
        "    taxasMutacao.append(0.1/(2*i))\n",
        "\n",
        "pop0 = algoritmoGenetico(qtdGeracoes=500, taxaMutacao=0, qtdElite=10)\n",
        "testesMutacao.append(Fitness(pop0).calcularDistancia())\n",
        "taxasMutacao.append(0)"
      ],
      "execution_count": null,
      "outputs": [
        {
          "output_type": "stream",
          "text": [
            "Distância com a População Inicial: 1808m\n"
          ],
          "name": "stdout"
        }
      ]
    },
    {
      "cell_type": "code",
      "metadata": {
        "colab": {
          "base_uri": "https://localhost:8080/"
        },
        "id": "Q5A1AZjK3wlu",
        "outputId": "a5f3d14f-f69a-40e7-bdac-6d77b292d986"
      },
      "source": [
        "idMelhor = testesMutacao.index(min(testesMutacao))\n",
        "print(\"Melhor Taxa de Mutação: \" + str(taxasMutacao[idMelhor]))\n",
        "print(\"Melhor Distância: \" + str(min(testesMutacao)))"
      ],
      "execution_count": null,
      "outputs": [
        {
          "output_type": "stream",
          "text": [
            "Melhor Taxa de Mutação: 0.01\n",
            "Melhor Distância: 583.9185944530958\n"
          ],
          "name": "stdout"
        }
      ]
    },
    {
      "cell_type": "code",
      "metadata": {
        "colab": {
          "base_uri": "https://localhost:8080/",
          "height": 334
        },
        "id": "yNcMX2MNkOb5",
        "outputId": "a39a2d29-7d7e-4b34-9752-14c1132d28ad"
      },
      "source": [
        "plt.figure(figsize=(5, 5))\n",
        "plt.plot(taxasMutacao, testesMutacao, 'o-')\n",
        "plt.xlim(max(taxasMutacao), min(taxasMutacao))\n",
        "plt.ylim(min(testesMutacao), max(testesMutacao))\n",
        "plt.xlabel('Taxa de Mutação')\n",
        "plt.ylabel('Distância')\n",
        "plt.show()"
      ],
      "execution_count": null,
      "outputs": [
        {
          "output_type": "display_data",
          "data": {
            "image/png": "[encoded data removed]",
            "text/plain": [
              "<Figure size 360x360 with 1 Axes>"
            ]
          },
          "metadata": {
            "tags": [],
            "needs_background": "light"
          }
        }
      ]
    },
    {
      "cell_type": "markdown",
      "metadata": {
        "id": "kGJq_2Q7L6Xx"
      },
      "source": [
        "# Teste 2 - Elitismo"
      ]
    },
    {
      "cell_type": "code",
      "metadata": {
        "colab": {
          "base_uri": "https://localhost:8080/"
        },
        "id": "ggSMfsETL96D",
        "outputId": "6de39a7f-890b-4015-df39-47149448062c"
      },
      "source": [
        "print(\"Distância com a População Inicial: \" + str((int)(1 / avaliarCaminhos(populacaoInicial)[0][1])) + \"m\")\n",
        "testesElitismo = []\n",
        "taxasElitismo = []\n",
        "\n",
        "for i in range(0, 11):\n",
        "    pop = algoritmoGenetico(qtdGeracoes=500, taxaMutacao=0.01, qtdElite=i*2)\n",
        "    testesElitismo.append(Fitness(pop).calcularDistancia())\n",
        "    taxasElitismo.append(i*2)"
      ],
      "execution_count": null,
      "outputs": [
        {
          "output_type": "stream",
          "text": [
            "Distância com a População Inicial: 1950m\n"
          ],
          "name": "stdout"
        }
      ]
    },
    {
      "cell_type": "code",
      "metadata": {
        "colab": {
          "base_uri": "https://localhost:8080/"
        },
        "id": "YNzwbQ9DMl5a",
        "outputId": "f350e0b4-a16d-4cba-f50a-516c5d07c7ae"
      },
      "source": [
        "idMelhor = testesElitismo.index(min(testesElitismo))\n",
        "print(\"Melhor Número Elites: \" + str(taxasElitismo[idMelhor]))\n",
        "print(\"Melhor Distância: \" + str(min(testesElitismo)))"
      ],
      "execution_count": null,
      "outputs": [
        {
          "output_type": "stream",
          "text": [
            "Melhor Número Elites: 16\n",
            "Melhor Distância: 575.9366641263554\n"
          ],
          "name": "stdout"
        }
      ]
    },
    {
      "cell_type": "code",
      "metadata": {
        "colab": {
          "base_uri": "https://localhost:8080/",
          "height": 334
        },
        "id": "_qrrn-YxM_bT",
        "outputId": "0e30477f-0dc2-4ffd-ad5f-1d569dd82d77"
      },
      "source": [
        "plt.figure(figsize=(5, 5))\n",
        "plt.plot(taxasElitismo, testesElitismo, 'o-')\n",
        "plt.xlim(min(taxasElitismo), max(taxasElitismo))\n",
        "plt.ylim(min(testesElitismo), max(testesElitismo))\n",
        "plt.xlabel('Número de Elites')\n",
        "plt.ylabel('Distância')\n",
        "plt.show()"
      ],
      "execution_count": null,
      "outputs": [
        {
          "output_type": "display_data",
          "data": {
            "image/png": "[encoded data removed]",
            "text/plain": [
              "<Figure size 360x360 with 1 Axes>"
            ]
          },
          "metadata": {
            "tags": [],
            "needs_background": "light"
          }
        }
      ]
    },
    {
      "cell_type": "markdown",
      "metadata": {
        "id": "D5q_jRWkNLYp"
      },
      "source": [
        "# Teste 3 - Número de Gerações"
      ]
    },
    {
      "cell_type": "code",
      "metadata": {
        "colab": {
          "base_uri": "https://localhost:8080/"
        },
        "id": "YyQzfRKbNTYZ",
        "outputId": "c0a403e4-28d2-4e59-a366-0766c75194aa"
      },
      "source": [
        "print(\"Distância com a População Inicial: \" + str((int)(1 / avaliarCaminhos(populacaoInicial)[0][1])) + \"m\")\n",
        "testesGeracao = []\n",
        "taxasGeracao = []\n",
        "\n",
        "for i in range(1, 11):\n",
        "    pop = algoritmoGenetico(qtdGeracoes=(2**i)*10, taxaMutacao=0.01, qtdElite=10)\n",
        "    testesGeracao.append(Fitness(pop).calcularDistancia())\n",
        "    taxasGeracao.append((2**i)*10)"
      ],
      "execution_count": null,
      "outputs": [
        {
          "output_type": "stream",
          "text": [
            "Distância com a População Inicial: 2063m\n"
          ],
          "name": "stdout"
        }
      ]
    },
    {
      "cell_type": "code",
      "metadata": {
        "colab": {
          "base_uri": "https://localhost:8080/"
        },
        "id": "aPbclVamNlCR",
        "outputId": "f0ff0842-d113-4e27-eb67-f69b7e83f67d"
      },
      "source": [
        "idMelhor = testesGeracao.index(min(testesGeracao))\n",
        "print(\"Melhor Número de Gerações: \" + str(taxasGeracao[idMelhor]))\n",
        "print(\"Melhor Distância: \" + str(min(testesGeracao)))"
      ],
      "execution_count": null,
      "outputs": [
        {
          "output_type": "stream",
          "text": [
            "Melhor Número de Gerações: 10240\n",
            "Melhor Distância: 577.158540872025\n"
          ],
          "name": "stdout"
        }
      ]
    },
    {
      "cell_type": "code",
      "metadata": {
        "colab": {
          "base_uri": "https://localhost:8080/",
          "height": 334
        },
        "id": "oy_-VNbdNqDB",
        "outputId": "ac942621-f33b-41bd-e339-f96c4f110cb8"
      },
      "source": [
        "plt.figure(figsize=(5, 5))\n",
        "plt.plot(taxasGeracao, testesGeracao, 'o-')\n",
        "plt.xlim(min(taxasGeracao), max(taxasGeracao))\n",
        "plt.ylim(min(testesGeracao), max(testesGeracao))\n",
        "plt.xlabel('Número de Gerações')\n",
        "plt.ylabel('Distância')\n",
        "plt.show()"
      ],
      "execution_count": null,
      "outputs": [
        {
          "output_type": "display_data",
          "data": {
            "image/png": "[encoded data removed]",
            "text/plain": [
              "<Figure size 360x360 with 1 Axes>"
            ]
          },
          "metadata": {
            "tags": [],
            "needs_background": "light"
          }
        }
      ]
    },
    {
      "cell_type": "markdown",
      "metadata": {
        "id": "a826rAd5o-0E"
      },
      "source": [
        "# Teste 4 - Melhores Modificadores"
      ]
    },
    {
      "cell_type": "code",
      "metadata": {
        "id": "-DG2YUbhpFL8"
      },
      "source": [
        "resultado = algoritmoGenetico(qtdGeracoes=1000, taxaMutacao=0.01, qtdElite=16)"
      ],
      "execution_count": null,
      "outputs": []
    },
    {
      "cell_type": "code",
      "metadata": {
        "colab": {
          "base_uri": "https://localhost:8080/"
        },
        "id": "96_e7vQsp5Gd",
        "outputId": "4c93c3b7-b156-4ca9-d780-6f0f84d71dc6"
      },
      "source": [
        "print(\"Distância com a População Inicial: \" + str((int)(1 / avaliarCaminhos(populacaoInicial)[0][1])) + \"m\")\n",
        "print(\"Melhor Distância Encontrada: \" + str(Fitness(resultado).calcularDistancia()))"
      ],
      "execution_count": null,
      "outputs": [
        {
          "output_type": "stream",
          "text": [
            "Distância com a População Inicial: 2013m\n",
            "Melhor Distância Encontrada: 592.8544561812018\n"
          ],
          "name": "stdout"
        }
      ]
    }
  ]
}