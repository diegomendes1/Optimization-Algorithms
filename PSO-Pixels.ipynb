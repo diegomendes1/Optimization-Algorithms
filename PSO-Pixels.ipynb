{
  "nbformat": 4,
  "nbformat_minor": 0,
  "metadata": {
    "colab": {
      "provenance": [],
      "mount_file_id": "1pYTygyLIRznRV28svLio1fCoUE5HoTUO",
      "authorship_tag": "ABX9TyMkvKkT1csCMT4u6I5laIaf",
      "include_colab_link": true
    },
    "kernelspec": {
      "name": "python3",
      "display_name": "Python 3"
    },
    "language_info": {
      "name": "python"
    }
  },
  "cells": [
    {
      "cell_type": "markdown",
      "metadata": {
        "id": "view-in-github",
        "colab_type": "text"
      },
      "source": [
        "<a href=\"https://colab.research.google.com/github/diegomendes1/PSO-Pixels/blob/main/PSO-Pixels.ipynb\" target=\"_parent\"><img src=\"https://colab.research.google.com/assets/colab-badge.svg\" alt=\"Open In Colab\"/></a>"
      ]
    },
    {
      "cell_type": "markdown",
      "metadata": {
        "id": "B4Vlm7bFWuFO"
      },
      "source": [
        "\n",
        "Diego Mendes da Silva\n",
        "\n",
        "Computação Natural - Prof. Carmelo Filho\n",
        "\n",
        "**Particle Swarm Optimization: Pixels Claros em Imagem**\n",
        "\n",
        "OBS: Topologia Local"
      ]
    },
    {
      "cell_type": "markdown",
      "metadata": {
        "id": "Z5yWAp-RhkM2"
      },
      "source": [
        "Parâmetros do PSO"
      ]
    },
    {
      "cell_type": "code",
      "metadata": {
        "id": "BfutaHo7pkVh"
      },
      "source": [
        "modo = 0 #0 para buscar pixel claro, 1 para buscar pixel escuro\n",
        "numIteracoes = 100\n",
        "alvoErro = 1e-2 # 1% de erro, serão aceito valores abaixo de 2,55 ou acima de 252,45\n",
        "numParticulas = 10\n",
        "\n",
        "w = 0.5\n",
        "c1 = 0.8\n",
        "c2 = 0.9"
      ],
      "execution_count": null,
      "outputs": []
    },
    {
      "cell_type": "markdown",
      "metadata": {
        "id": "_seEPUkehpHx"
      },
      "source": [
        "Imports"
      ]
    },
    {
      "cell_type": "code",
      "metadata": {
        "id": "74fHTnSJnMHf"
      },
      "source": [
        "from matplotlib.ticker import MaxNLocator\n",
        "import matplotlib.pyplot as plt\n",
        "from numpy import asarray\n",
        "from PIL import Image\n",
        "import pandas as pd\n",
        "import numpy as np\n",
        "import random\n",
        "%matplotlib inline"
      ],
      "execution_count": null,
      "outputs": []
    },
    {
      "cell_type": "markdown",
      "metadata": {
        "id": "gPHaJN-Pk2Yq"
      },
      "source": [
        "# Carregando a imagem"
      ]
    },
    {
      "cell_type": "code",
      "metadata": {
        "id": "SSg0IfLRWNra"
      },
      "source": [
        "image = Image.open('img.jpeg')\n",
        "data = asarray(image)\n",
        "imgHeight = data.shape[0]\n",
        "imgWidth = data.shape[1]"
      ],
      "execution_count": null,
      "outputs": []
    },
    {
      "cell_type": "markdown",
      "metadata": {
        "id": "YDWQVOM0k8Dl"
      },
      "source": [
        "# Convertendo em Array"
      ]
    },
    {
      "cell_type": "code",
      "metadata": {
        "id": "2hceov1pfC7w"
      },
      "source": [
        "matrizPixels = np.zeros((imgHeight,imgWidth))\n",
        "for i in range(imgHeight):\n",
        "  for j in range(imgWidth):\n",
        "    matrizPixels[i][j] = data[i][j][0]\n",
        "\n",
        "def getValor(pos):\n",
        "  return matrizPixels[(int)(pos[1])][(int)(pos[0])]"
      ],
      "execution_count": null,
      "outputs": []
    },
    {
      "cell_type": "markdown",
      "metadata": {
        "id": "kVIjvUqwlAzS"
      },
      "source": [
        "# PSO"
      ]
    },
    {
      "cell_type": "code",
      "metadata": {
        "id": "R9YHV8EglDWj"
      },
      "source": [
        "#Particula\n",
        "class Particula():\n",
        "  def __init__(self, neighbor):\n",
        "    self.posAtual = np.array([(int)(random.random()*imgWidth),(int)(random.random()*imgHeight)])\n",
        "    self.pBestPos = self.posAtual\n",
        "    self.pBestValor = -1\n",
        "    self.vel = np.array([0,0])\n",
        "    self.neighbor = neighbor\n",
        "\n",
        "  def mover(self):\n",
        "    self.posAtual = self.posAtual + self.vel\n",
        "    x = self.posAtual[0]\n",
        "    y = self.posAtual[1]\n",
        "\n",
        "    #Verificando os limites da imagem\n",
        "    if x >= imgWidth: x = imgWidth-1\n",
        "    elif x < 0: x = 0\n",
        "\n",
        "    if y >= imgHeight: y = imgHeight-1\n",
        "    elif x < 0: y = 0\n",
        "\n",
        "    self.posAtual = np.array([x, y])"
      ],
      "execution_count": null,
      "outputs": []
    },
    {
      "cell_type": "code",
      "metadata": {
        "id": "ZU5m_RdNoxGr"
      },
      "source": [
        "class Ambiente():\n",
        "  def __init__(self, modo, alvoErro, numParticulas):\n",
        "    self.modo = modo\n",
        "    self.alvoErro = alvoErro\n",
        "    self.numParticulas = numParticulas\n",
        "    self.particulas = []\n",
        "    self.gBestPos = np.array([(int)(random.random()*imgWidth),(int)(random.random()*imgHeight)])\n",
        "    self.gBestValor = -1\n",
        "\n",
        "  def fitness(self, p):\n",
        "    v = getValor(p.posAtual)/255\n",
        "    if modo == 0: return v \n",
        "    else: return 1 - v\n",
        "\n",
        "  def calcularpBest(self):\n",
        "    for p in self.particulas:\n",
        "      temp = self.fitness(p)\n",
        "      if temp > p.pBestValor:\n",
        "        p.pBestValor = temp\n",
        "        p.pBestPos = p.posAtual\n",
        "\n",
        "  def calculargBest(self):\n",
        "    for p in self.particulas:\n",
        "      temp = self.fitness(p)\n",
        "      if temp > self.gBestValor:\n",
        "        self.gBestValor = temp\n",
        "        self.gBestPos = p.posAtual\n",
        "\n",
        "  def movimentarParticulas(self):\n",
        "    for p in self.particulas:\n",
        "      novaVel = (w*p.vel) + c1*random.random() *(p.pBestPos - p.posAtual) + c2*random.random() * (p.neighbor.pBestPos - p.posAtual)\n",
        "      p.vel = novaVel.astype(int)\n",
        "      p.mover()"
      ],
      "execution_count": null,
      "outputs": []
    },
    {
      "cell_type": "code",
      "metadata": {
        "id": "QtCF3TDLITCT"
      },
      "source": [
        "fitnessArray = []\n",
        "valorArray = []"
      ],
      "execution_count": null,
      "outputs": []
    },
    {
      "cell_type": "code",
      "metadata": {
        "id": "hDGefNEtqQaW"
      },
      "source": [
        "particulas = [Particula(None) for _ in range(numParticulas)]\n",
        "for i in range(1, len(particulas)):\n",
        "  particulas[i].neighbor = particulas[i-1]\n",
        "\n",
        "particulas[0].neighbor = particulas[len(particulas)-1]\n",
        "\n",
        "ambiente = Ambiente(modo, alvoErro, numParticulas)\n",
        "ambiente.particulas = particulas\n",
        "\n",
        "i = 0\n",
        "while i < numIteracoes:\n",
        "  ambiente.calcularpBest()\n",
        "  ambiente.calculargBest()\n",
        "  fitnessArray.append(ambiente.gBestValor)\n",
        "  valorArray.append(getValor(ambiente.gBestPos))\n",
        "\n",
        "  if abs(1-(ambiente.gBestValor)) <= ambiente.alvoErro: break\n",
        "\n",
        "  ambiente.movimentarParticulas()\n",
        "  i += 1"
      ],
      "execution_count": null,
      "outputs": []
    },
    {
      "cell_type": "markdown",
      "metadata": {
        "id": "atjvtDJ8_d5N"
      },
      "source": [
        "# Resultados"
      ]
    },
    {
      "cell_type": "code",
      "metadata": {
        "colab": {
          "base_uri": "https://localhost:8080/"
        },
        "id": "FEIAfDE0sEVg",
        "outputId": "66c7567a-04ea-4937-f1a8-53fe00333c3f"
      },
      "source": [
        "print(\"Número de Iterações: \" + str(i))\n",
        "cor = \"claro\" if modo == 0 else \"escuro\"\n",
        "print(\"Posição do pixel mais \" + cor + \": \" + str(ambiente.gBestPos))\n",
        "print(\"valor mais \" + cor + \" encontrado: \" + str(getValor(ambiente.gBestPos)))\n",
        "print(\"Sendo 0 o mais escuro, e 255 o mais claro possível.\")"
      ],
      "execution_count": null,
      "outputs": [
        {
          "output_type": "stream",
          "text": [
            "Número de Iterações: 12\n",
            "Posição do pixel mais claro: [1786  362]\n",
            "valor mais claro encontrado: 255.0\n",
            "Sendo 0 o mais escuro, e 255 o mais claro possível.\n"
          ],
          "name": "stdout"
        }
      ]
    },
    {
      "cell_type": "code",
      "metadata": {
        "colab": {
          "base_uri": "https://localhost:8080/",
          "height": 269
        },
        "id": "6iOj_CvFXRTT",
        "outputId": "4eece10a-bbe4-4857-82d8-76e66c478c15"
      },
      "source": [
        "#O gráfico mostra a evolução do fitness em cada iteração\n",
        "fig = plt.figure()\n",
        "ax = plt.axes()\n",
        "ax.set_ylim(0,1)\n",
        "ax.plot(np.arange(len(fitnessArray)), fitnessArray);"
      ],
      "execution_count": null,
      "outputs": [
        {
          "output_type": "display_data",
          "data": {
            "image/png": "[encoded data removed]",
            "text/plain": [
              "<Figure size 432x288 with 1 Axes>"
            ]
          },
          "metadata": {
            "needs_background": "light"
          }
        }
      ]
    }
  ]
}